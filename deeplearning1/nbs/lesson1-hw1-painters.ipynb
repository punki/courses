{
 "cells": [
  {
   "cell_type": "markdown",
   "metadata": {},
   "source": [
    "### Co poprawic\n",
    "    1. Czy mamy hot one encoded ?\n",
    "    2. Rozmiar obrazkow jakie powinny byc?\n",
    "        - 224x224x3\n",
    "        - Ale get_batches z vgg juz zmienia wielkosc obrazko\n",
    "    3. w katalogu dev mamy mniejsza probke zobazcmy jak zadziala\n",
    "    "
   ]
  },
  {
   "cell_type": "markdown",
   "metadata": {},
   "source": [
    "### Obliczenie sredniej\n"
   ]
  },
  {
   "cell_type": "code",
   "execution_count": 1,
   "metadata": {
    "ExecuteTime": {
     "end_time": "2017-11-04T13:47:19.748963Z",
     "start_time": "2017-11-04T13:47:19.745742Z"
    },
    "collapsed": true
   },
   "outputs": [],
   "source": [
    "path_mean = \"data/painter-by-numbers/train/\""
   ]
  },
  {
   "cell_type": "code",
   "execution_count": 2,
   "metadata": {
    "ExecuteTime": {
     "end_time": "2017-11-04T13:47:34.485590Z",
     "start_time": "2017-11-04T13:47:33.893828Z"
    },
    "collapsed": true
   },
   "outputs": [],
   "source": [
    "import glob\n",
    "import numpy as np\n",
    "from scipy import misc"
   ]
  },
  {
   "cell_type": "code",
   "execution_count": 4,
   "metadata": {
    "ExecuteTime": {
     "end_time": "2017-11-04T13:48:47.220600Z",
     "start_time": "2017-11-04T13:48:47.069007Z"
    },
    "collapsed": false
   },
   "outputs": [
    {
     "data": {
      "text/plain": [
       "64633"
      ]
     },
     "execution_count": 4,
     "metadata": {},
     "output_type": "execute_result"
    }
   ],
   "source": [
    "filelist = glob.glob(path_mean+\"**/*.jpg\")\n",
    "mean_elements_counts = len(filelist)\n",
    "mean_elements_counts"
   ]
  },
  {
   "cell_type": "code",
   "execution_count": 5,
   "metadata": {
    "ExecuteTime": {
     "end_time": "2017-11-04T13:52:32.577875Z",
     "start_time": "2017-11-04T13:49:08.065883Z"
    },
    "collapsed": true
   },
   "outputs": [],
   "source": [
    "all_imgs = np.array([misc.imread(fname) for fname in filelist])"
   ]
  },
  {
   "cell_type": "code",
   "execution_count": 6,
   "metadata": {
    "ExecuteTime": {
     "end_time": "2017-11-04T13:55:38.639917Z",
     "start_time": "2017-11-04T13:52:32.579479Z"
    },
    "collapsed": true
   },
   "outputs": [],
   "source": [
    "means = [np.mean(img, axis=(0, 1)) for img in all_imgs]"
   ]
  },
  {
   "cell_type": "code",
   "execution_count": 7,
   "metadata": {
    "ExecuteTime": {
     "end_time": "2017-11-04T13:55:38.664334Z",
     "start_time": "2017-11-04T13:55:38.641886Z"
    },
    "collapsed": true
   },
   "outputs": [],
   "source": [
    "means_sum = np.sum(means,axis=0)"
   ]
  },
  {
   "cell_type": "code",
   "execution_count": 8,
   "metadata": {
    "ExecuteTime": {
     "end_time": "2017-11-04T13:55:38.668430Z",
     "start_time": "2017-11-04T13:55:38.665760Z"
    },
    "collapsed": true
   },
   "outputs": [],
   "source": [
    "means_final = means_sum/mean_elements_counts"
   ]
  },
  {
   "cell_type": "code",
   "execution_count": 9,
   "metadata": {
    "ExecuteTime": {
     "end_time": "2017-11-04T13:57:27.658812Z",
     "start_time": "2017-11-04T13:57:27.653800Z"
    },
    "collapsed": false
   },
   "outputs": [
    {
     "data": {
      "text/plain": [
       "array([ 132.56958886,  118.85338536,  103.05348692])"
      ]
     },
     "execution_count": 9,
     "metadata": {},
     "output_type": "execute_result"
    }
   ],
   "source": [
    "means_final"
   ]
  },
  {
   "cell_type": "code",
   "execution_count": null,
   "metadata": {
    "collapsed": true
   },
   "outputs": [],
   "source": []
  },
  {
   "cell_type": "markdown",
   "metadata": {
    "heading_collapsed": true
   },
   "source": [
    "### Przygotowanie danych"
   ]
  },
  {
   "cell_type": "code",
   "execution_count": 16,
   "metadata": {
    "ExecuteTime": {
     "end_time": "2017-11-01T22:12:32.823772Z",
     "start_time": "2017-11-01T22:12:32.820638Z"
    },
    "collapsed": true,
    "hidden": true
   },
   "outputs": [],
   "source": [
    "path_train = \"data/painter-by-numbers/train/\"\n",
    "path_valid = \"data/painter-by-numbers/valid/\""
   ]
  },
  {
   "cell_type": "code",
   "execution_count": 17,
   "metadata": {
    "ExecuteTime": {
     "end_time": "2017-11-01T22:12:33.315768Z",
     "start_time": "2017-11-01T22:12:33.313097Z"
    },
    "collapsed": true,
    "hidden": true
   },
   "outputs": [],
   "source": [
    "path_info = \"data/painter-by-numbers/train_info.csv\""
   ]
  },
  {
   "cell_type": "code",
   "execution_count": 18,
   "metadata": {
    "ExecuteTime": {
     "end_time": "2017-11-01T22:12:33.928320Z",
     "start_time": "2017-11-01T22:12:33.924920Z"
    },
    "collapsed": true,
    "hidden": true
   },
   "outputs": [],
   "source": [
    "import os, json\n",
    "from glob import glob\n",
    "import numpy as np"
   ]
  },
  {
   "cell_type": "code",
   "execution_count": 19,
   "metadata": {
    "ExecuteTime": {
     "end_time": "2017-11-01T22:12:34.395613Z",
     "start_time": "2017-11-01T22:12:34.390900Z"
    },
    "collapsed": true,
    "hidden": true
   },
   "outputs": [],
   "source": [
    "g = glob(path_train+\"*.jpg\")"
   ]
  },
  {
   "cell_type": "code",
   "execution_count": 20,
   "metadata": {
    "ExecuteTime": {
     "end_time": "2017-11-01T22:12:34.962244Z",
     "start_time": "2017-11-01T22:12:34.958058Z"
    },
    "collapsed": false,
    "hidden": true
   },
   "outputs": [
    {
     "data": {
      "text/plain": [
       "0"
      ]
     },
     "execution_count": 20,
     "metadata": {},
     "output_type": "execute_result"
    }
   ],
   "source": [
    "len(g)"
   ]
  },
  {
   "cell_type": "code",
   "execution_count": 6,
   "metadata": {
    "ExecuteTime": {
     "end_time": "2017-09-12T20:29:55.152297Z",
     "start_time": "2017-09-12T20:29:55.143797Z"
    },
    "collapsed": true,
    "hidden": true
   },
   "outputs": [],
   "source": [
    "np.random.shuffle(g)"
   ]
  },
  {
   "cell_type": "code",
   "execution_count": 7,
   "metadata": {
    "ExecuteTime": {
     "end_time": "2017-09-12T20:29:59.028545Z",
     "start_time": "2017-09-12T20:29:59.025350Z"
    },
    "collapsed": true,
    "hidden": true
   },
   "outputs": [],
   "source": [
    "valid_files=g[:14800]"
   ]
  },
  {
   "cell_type": "code",
   "execution_count": 9,
   "metadata": {
    "ExecuteTime": {
     "end_time": "2017-09-12T20:30:44.400526Z",
     "start_time": "2017-09-12T20:30:44.395666Z"
    },
    "collapsed": false,
    "hidden": true
   },
   "outputs": [
    {
     "data": {
      "text/plain": [
       "['data/painter-by-numbers/train/51258.jpg',\n",
       " 'data/painter-by-numbers/train/48123.jpg',\n",
       " 'data/painter-by-numbers/train/78678.jpg']"
      ]
     },
     "execution_count": 9,
     "metadata": {},
     "output_type": "execute_result"
    }
   ],
   "source": [
    "valid_files[:3]"
   ]
  },
  {
   "cell_type": "code",
   "execution_count": 10,
   "metadata": {
    "ExecuteTime": {
     "end_time": "2017-09-12T20:31:04.171441Z",
     "start_time": "2017-09-12T20:31:04.166534Z"
    },
    "collapsed": false,
    "hidden": true
   },
   "outputs": [
    {
     "data": {
      "text/plain": [
       "u'/home/ubuntu/courses/deeplearning1/nbs'"
      ]
     },
     "execution_count": 10,
     "metadata": {},
     "output_type": "execute_result"
    }
   ],
   "source": [
    "pwd"
   ]
  },
  {
   "cell_type": "code",
   "execution_count": 11,
   "metadata": {
    "ExecuteTime": {
     "end_time": "2017-09-12T20:32:44.849481Z",
     "start_time": "2017-09-12T20:32:44.652951Z"
    },
    "collapsed": false,
    "hidden": true
   },
   "outputs": [],
   "source": [
    "if not os.path.exists(path_valid):\n",
    "    os.mkdir(path_valid)\n",
    "for f in valid_files:\n",
    "    nf = f.replace(\"/train\",\"/valid\")\n",
    "    os.rename(f,nf)\n",
    "    "
   ]
  },
  {
   "cell_type": "code",
   "execution_count": 13,
   "metadata": {
    "ExecuteTime": {
     "end_time": "2017-09-12T20:35:05.134430Z",
     "start_time": "2017-09-12T20:35:05.125670Z"
    },
    "collapsed": true,
    "hidden": true
   },
   "outputs": [],
   "source": [
    "import csv\n",
    "def move_files_to_categories(base_path):\n",
    "    with open(path_info, 'rb') as csvfile:\n",
    "        spamreader = csv.reader(csvfile, delimiter=',', quotechar='|')\n",
    "        next(spamreader)\n",
    "        for row in spamreader:\n",
    "            artist = row[1]\n",
    "            fileName = row[0]\n",
    "            if not os.path.exists(base_path+artist):\n",
    "                os.mkdir(base_path+artist)\n",
    "            if os.path.exists(base_path+fileName):\n",
    "                os.rename(base_path+fileName,base_path+artist+\"/\"+fileName)"
   ]
  },
  {
   "cell_type": "code",
   "execution_count": 14,
   "metadata": {
    "ExecuteTime": {
     "end_time": "2017-09-12T20:35:12.940749Z",
     "start_time": "2017-09-12T20:35:10.842265Z"
    },
    "collapsed": false,
    "hidden": true
   },
   "outputs": [],
   "source": [
    "move_files_to_categories(path_train)\n",
    "move_files_to_categories(path_valid)"
   ]
  },
  {
   "cell_type": "code",
   "execution_count": 26,
   "metadata": {
    "ExecuteTime": {
     "end_time": "2017-09-12T20:44:08.892173Z",
     "start_time": "2017-09-12T20:44:08.887028Z"
    },
    "collapsed": false,
    "hidden": true
   },
   "outputs": [],
   "source": [
    "sample_path_train = \"data/painter-by-numbers/sample/train/\"\n",
    "sample_path_valid = \"data/painter-by-numbers/sample/valid/\"\n",
    "if not os.path.exists(\"data/painter-by-numbers/sample/\"):\n",
    "    os.mkdir(\"data/painter-by-numbers/sample/\")\n",
    "if not os.path.exists(sample_path_train):\n",
    "    os.mkdir(sample_path_train)\n",
    "if not os.path.exists(sample_path_valid):\n",
    "    os.mkdir(sample_path_valid)"
   ]
  },
  {
   "cell_type": "markdown",
   "metadata": {},
   "source": [
    "### Szkolenie"
   ]
  },
  {
   "cell_type": "code",
   "execution_count": 1,
   "metadata": {
    "ExecuteTime": {
     "end_time": "2017-11-04T22:22:13.624692Z",
     "start_time": "2017-11-04T22:22:13.013197Z"
    },
    "collapsed": true
   },
   "outputs": [],
   "source": [
    "%matplotlib inline"
   ]
  },
  {
   "cell_type": "code",
   "execution_count": 2,
   "metadata": {
    "ExecuteTime": {
     "end_time": "2017-11-04T22:22:13.628953Z",
     "start_time": "2017-11-04T22:22:13.626216Z"
    },
    "collapsed": true
   },
   "outputs": [],
   "source": [
    "#path=\"data/painter-by-numbers/sample/\"\n",
    "path=\"data/painter-by-numbers/dev/\"\n",
    "#path=\"data/painter-by-numbers/\""
   ]
  },
  {
   "cell_type": "code",
   "execution_count": 3,
   "metadata": {
    "ExecuteTime": {
     "end_time": "2017-11-04T22:22:13.635284Z",
     "start_time": "2017-11-04T22:22:13.630323Z"
    },
    "collapsed": true
   },
   "outputs": [],
   "source": [
    "from __future__ import division,print_function\n",
    "\n",
    "import os, json\n",
    "from glob import glob\n",
    "import numpy as np\n",
    "np.set_printoptions(precision=4, linewidth=100)\n",
    "from matplotlib import pyplot as plt"
   ]
  },
  {
   "cell_type": "code",
   "execution_count": 4,
   "metadata": {
    "ExecuteTime": {
     "end_time": "2017-11-04T22:22:22.740958Z",
     "start_time": "2017-11-04T22:22:13.951540Z"
    },
    "collapsed": false
   },
   "outputs": [
    {
     "name": "stderr",
     "output_type": "stream",
     "text": [
      "Using gpu device 0: Tesla K80 (CNMeM is disabled, cuDNN 5103)\n",
      "/home/ubuntu/anaconda2/lib/python2.7/site-packages/theano/sandbox/cuda/__init__.py:600: UserWarning: Your cuDNN version is more recent than the one Theano officially supports. If you see any problems, try updating Theano or downgrading cuDNN to version 5.\n",
      "  warnings.warn(warn)\n",
      "Using Theano backend.\n"
     ]
    }
   ],
   "source": [
    "import utils; reload(utils)\n",
    "from utils import plots\n"
   ]
  },
  {
   "cell_type": "code",
   "execution_count": 5,
   "metadata": {
    "ExecuteTime": {
     "end_time": "2017-11-04T22:22:22.745526Z",
     "start_time": "2017-11-04T22:22:22.742438Z"
    },
    "collapsed": true
   },
   "outputs": [],
   "source": [
    "# batch_size=64\n",
    "batch_size=64"
   ]
  },
  {
   "cell_type": "code",
   "execution_count": 6,
   "metadata": {
    "ExecuteTime": {
     "end_time": "2017-11-04T22:22:22.756051Z",
     "start_time": "2017-11-04T22:22:22.747356Z"
    },
    "collapsed": false
   },
   "outputs": [],
   "source": [
    "import vgg16_Painters;reload(vgg16_Painters)\n",
    "from vgg16_Painters import Vgg16"
   ]
  },
  {
   "cell_type": "code",
   "execution_count": 7,
   "metadata": {
    "ExecuteTime": {
     "end_time": "2017-11-04T22:22:30.640652Z",
     "start_time": "2017-11-04T22:22:22.757970Z"
    },
    "collapsed": false
   },
   "outputs": [],
   "source": [
    "vgg=Vgg16()"
   ]
  },
  {
   "cell_type": "code",
   "execution_count": 8,
   "metadata": {
    "ExecuteTime": {
     "end_time": "2017-11-04T22:22:30.664444Z",
     "start_time": "2017-11-04T22:22:30.642713Z"
    },
    "collapsed": false
   },
   "outputs": [
    {
     "name": "stdout",
     "output_type": "stream",
     "text": [
      "Found 172 images belonging to 6 classes.\n",
      "Found 38 images belonging to 6 classes.\n"
     ]
    }
   ],
   "source": [
    "train_batch = vgg.get_batches(path+\"train\",batch_size=batch_size)\n",
    "valid_batch = vgg.get_batches(path+\"valid\",batch_size=batch_size)"
   ]
  },
  {
   "cell_type": "code",
   "execution_count": 9,
   "metadata": {
    "ExecuteTime": {
     "end_time": "2017-11-04T22:22:30.669308Z",
     "start_time": "2017-11-04T22:22:30.665919Z"
    },
    "collapsed": false
   },
   "outputs": [],
   "source": [
    "#keras zwraca kategoria jako klasy a my chcemy one hot encoded\n",
    "train_classes = train_batch.classes\n",
    "valid_classes = valid_batch.classes\n"
   ]
  },
  {
   "cell_type": "code",
   "execution_count": 10,
   "metadata": {
    "ExecuteTime": {
     "end_time": "2017-11-04T22:22:30.674442Z",
     "start_time": "2017-11-04T22:22:30.670834Z"
    },
    "collapsed": false
   },
   "outputs": [],
   "source": [
    "train_labels = utils.onehot(train_classes)\n",
    "valid_labels = utils.onehot(valid_classes)\n"
   ]
  },
  {
   "cell_type": "code",
   "execution_count": 11,
   "metadata": {
    "ExecuteTime": {
     "end_time": "2017-11-04T22:22:30.681702Z",
     "start_time": "2017-11-04T22:22:30.675945Z"
    },
    "collapsed": false
   },
   "outputs": [
    {
     "data": {
      "text/plain": [
       "38"
      ]
     },
     "execution_count": 11,
     "metadata": {},
     "output_type": "execute_result"
    }
   ],
   "source": [
    "len(vgg.model.layers)"
   ]
  },
  {
   "cell_type": "code",
   "execution_count": 12,
   "metadata": {
    "ExecuteTime": {
     "end_time": "2017-11-04T22:22:30.701636Z",
     "start_time": "2017-11-04T22:22:30.683279Z"
    },
    "collapsed": false
   },
   "outputs": [
    {
     "name": "stdout",
     "output_type": "stream",
     "text": [
      "ustawiam trainable na false\n",
      "ustawiam trainable na false\n",
      "ustawiam trainable na false\n",
      "ustawiam trainable na false\n",
      "ustawiam trainable na false\n",
      "ustawiam trainable na false\n",
      "ustawiam trainable na false\n",
      "ustawiam trainable na false\n",
      "ustawiam trainable na false\n",
      "ustawiam trainable na false\n",
      "ustawiam trainable na false\n",
      "ustawiam trainable na false\n",
      "ustawiam trainable na false\n",
      "ustawiam trainable na false\n",
      "ustawiam trainable na false\n",
      "ustawiam trainable na false\n",
      "ustawiam trainable na false\n",
      "ustawiam trainable na false\n",
      "ustawiam trainable na false\n",
      "ustawiam trainable na false\n",
      "ustawiam trainable na false\n",
      "ustawiam trainable na false\n",
      "ustawiam trainable na false\n",
      "ustawiam trainable na false\n",
      "ustawiam trainable na false\n",
      "ustawiam trainable na false\n",
      "ustawiam trainable na false\n",
      "ustawiam trainable na false\n",
      "ustawiam trainable na false\n",
      "ustawiam trainable na false\n",
      "ustawiam trainable na false\n",
      "ustawiam trainable na false\n",
      "ustawiam trainable na false\n",
      "ustawiam trainable na false\n",
      "ustawiam trainable na false\n"
     ]
    }
   ],
   "source": [
    "vgg.finetune(train_batch,2)"
   ]
  },
  {
   "cell_type": "code",
   "execution_count": 13,
   "metadata": {
    "ExecuteTime": {
     "end_time": "2017-11-04T22:22:31.110040Z",
     "start_time": "2017-11-04T22:22:31.106951Z"
    },
    "collapsed": true
   },
   "outputs": [],
   "source": [
    "vgg.model.optimizer.lr = 0.00001"
   ]
  },
  {
   "cell_type": "code",
   "execution_count": 17,
   "metadata": {
    "ExecuteTime": {
     "end_time": "2017-11-04T22:28:55.106997Z",
     "start_time": "2017-11-04T22:27:49.714025Z"
    },
    "collapsed": false
   },
   "outputs": [
    {
     "name": "stdout",
     "output_type": "stream",
     "text": [
      "Running epoch: 0\n",
      "Epoch 1/1\n",
      "172/172 [==============================] - 7s - loss: 0.5239 - acc: 0.8140 - val_loss: 1.0166 - val_acc: 0.7368\n",
      "Running epoch: 1\n",
      "Epoch 1/1\n",
      "172/172 [==============================] - 7s - loss: 0.4177 - acc: 0.8547 - val_loss: 0.9884 - val_acc: 0.7368\n",
      "Running epoch: 2\n",
      "Epoch 1/1\n",
      "172/172 [==============================] - 7s - loss: 0.3959 - acc: 0.8953 - val_loss: 0.9637 - val_acc: 0.7368\n",
      "Running epoch: 3\n",
      "Epoch 1/1\n",
      "172/172 [==============================] - 7s - loss: 0.2826 - acc: 0.9302 - val_loss: 0.9512 - val_acc: 0.7368\n",
      "Running epoch: 4\n",
      "Epoch 1/1\n",
      "172/172 [==============================] - 7s - loss: 0.3674 - acc: 0.8605 - val_loss: 0.9376 - val_acc: 0.7368\n",
      "Completed 5 fit operations\n"
     ]
    }
   ],
   "source": [
    "#Notice we are passing in the validation dataset to the fit() method\n",
    "#For each epoch we test our model against the validation set\n",
    "no_of_epochs=5\n",
    "results_path=path+\"results/\"\n",
    "latest_weights_filename = \"painters_weights_2epochs_30train.h5\"\n",
    "for epoch in range(no_of_epochs):\n",
    "    print(\"Running epoch: %d\" % epoch)\n",
    "    vgg.fit(train_batch, valid_batch, nb_epoch=1)\n",
    "    vgg.model.save_weights(results_path+latest_weights_filename)\n",
    "print(\"Completed %s fit operations\" % no_of_epochs)"
   ]
  },
  {
   "cell_type": "code",
   "execution_count": 52,
   "metadata": {
    "ExecuteTime": {
     "end_time": "2017-09-13T12:46:21.002974Z",
     "start_time": "2017-09-13T12:46:20.435152Z"
    },
    "collapsed": false
   },
   "outputs": [],
   "source": [
    "vgg.model.save_weights('data/painter-by-numbers/moje_paintint_ft1_ver2.h5')"
   ]
  },
  {
   "cell_type": "code",
   "execution_count": 57,
   "metadata": {
    "ExecuteTime": {
     "end_time": "2017-09-13T13:21:21.778921Z",
     "start_time": "2017-09-13T13:21:21.773814Z"
    },
    "collapsed": false
   },
   "outputs": [
    {
     "data": {
      "text/html": [
       "<a href='data/painter-by-numbers/moje_paintint_ft1_ver1.h5' target='_blank'>data/painter-by-numbers/moje_paintint_ft1_ver1.h5</a><br>"
      ],
      "text/plain": [
       "/home/ubuntu/courses/deeplearning1/nbs/data/painter-by-numbers/moje_paintint_ft1_ver1.h5"
      ]
     },
     "execution_count": 57,
     "metadata": {},
     "output_type": "execute_result"
    }
   ],
   "source": [
    "from IPython.display import FileLink\n",
    "FileLink('data/painter-by-numbers/moje_paintint_ft1_ver1.h5')"
   ]
  },
  {
   "cell_type": "code",
   "execution_count": 20,
   "metadata": {
    "ExecuteTime": {
     "end_time": "2017-09-13T10:24:18.229263Z",
     "start_time": "2017-09-13T09:53:31.269749Z"
    },
    "collapsed": false
   },
   "outputs": [
    {
     "name": "stdout",
     "output_type": "stream",
     "text": [
      "Epoch 1/1\n",
      "64633/64633 [==============================] - 1846s - loss: 7.7677 - acc: 0.2119 - val_loss: 7.4706 - val_acc: 0.2408\n"
     ]
    }
   ],
   "source": [
    "vgg.fit(train_batch,valid_batch,nb_epoch=1)"
   ]
  },
  {
   "cell_type": "code",
   "execution_count": null,
   "metadata": {
    "ExecuteTime": {
     "start_time": "2017-09-13T10:18:37.666Z"
    },
    "collapsed": true
   },
   "outputs": [],
   "source": [
    "vgg.model.save_weights('data/painter-by-numbers/moje_paintint_ft2_ver2.h5')"
   ]
  },
  {
   "cell_type": "code",
   "execution_count": null,
   "metadata": {
    "ExecuteTime": {
     "start_time": "2017-09-13T10:18:38.841Z"
    },
    "collapsed": false
   },
   "outputs": [
    {
     "name": "stdout",
     "output_type": "stream",
     "text": [
      "Epoch 1/1\n",
      " 1792/64633 [..............................] - ETA: 1483s - loss: 6.4442 - acc: 0.3013"
     ]
    }
   ],
   "source": [
    "vgg.fit(train_batch,valid_batch,nb_epoch=1)"
   ]
  },
  {
   "cell_type": "code",
   "execution_count": null,
   "metadata": {
    "collapsed": true
   },
   "outputs": [],
   "source": [
    "vgg.model.save_weights('data/painter-by-numbers/moje_paintint_ft3_ver2.h5')"
   ]
  }
 ],
 "metadata": {
  "anaconda-cloud": {},
  "kernelspec": {
   "display_name": "Python [conda root]",
   "language": "python",
   "name": "conda-root-py"
  },
  "language_info": {
   "codemirror_mode": {
    "name": "ipython",
    "version": 2
   },
   "file_extension": ".py",
   "mimetype": "text/x-python",
   "name": "python",
   "nbconvert_exporter": "python",
   "pygments_lexer": "ipython2",
   "version": "2.7.12"
  }
 },
 "nbformat": 4,
 "nbformat_minor": 2
}
