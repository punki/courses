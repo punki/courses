{
 "cells": [
  {
   "cell_type": "code",
   "execution_count": 35,
   "metadata": {
    "ExecuteTime": {
     "end_time": "2017-09-12T15:13:05.782576Z",
     "start_time": "2017-09-12T15:13:05.775632Z"
    }
   },
   "outputs": [],
   "source": [
    "path_train = \"data/painter-by-numbers/train/\"\n",
    "path_valid = \"data/painter-by-numbers/valid/\""
   ]
  },
  {
   "cell_type": "code",
   "execution_count": 3,
   "metadata": {
    "ExecuteTime": {
     "end_time": "2017-09-11T21:13:59.080337Z",
     "start_time": "2017-09-11T21:13:59.077383Z"
    },
    "collapsed": true
   },
   "outputs": [],
   "source": [
    "path_info = \"data/painter-by-numbers/train_info.csv\""
   ]
  },
  {
   "cell_type": "code",
   "execution_count": 15,
   "metadata": {
    "ExecuteTime": {
     "end_time": "2017-09-11T21:37:47.670016Z",
     "start_time": "2017-09-11T21:37:46.331780Z"
    },
    "collapsed": true
   },
   "outputs": [],
   "source": [
    "import os, json\n",
    "from glob import glob\n",
    "import numpy as np"
   ]
  },
  {
   "cell_type": "code",
   "execution_count": 12,
   "metadata": {
    "ExecuteTime": {
     "end_time": "2017-09-11T21:35:31.869166Z",
     "start_time": "2017-09-11T21:35:31.691483Z"
    }
   },
   "outputs": [],
   "source": [
    "g = glob(path_train+\"*.jpg\")"
   ]
  },
  {
   "cell_type": "code",
   "execution_count": 14,
   "metadata": {
    "ExecuteTime": {
     "end_time": "2017-09-11T21:35:41.651333Z",
     "start_time": "2017-09-11T21:35:41.637022Z"
    }
   },
   "outputs": [
    {
     "data": {
      "text/plain": [
       "79433"
      ]
     },
     "execution_count": 14,
     "metadata": {},
     "output_type": "execute_result"
    }
   ],
   "source": [
    "len(g)"
   ]
  },
  {
   "cell_type": "code",
   "execution_count": 16,
   "metadata": {
    "ExecuteTime": {
     "end_time": "2017-09-11T21:38:32.166937Z",
     "start_time": "2017-09-11T21:38:32.154161Z"
    },
    "collapsed": true
   },
   "outputs": [],
   "source": [
    "np.random.shuffle(g)"
   ]
  },
  {
   "cell_type": "code",
   "execution_count": 18,
   "metadata": {
    "ExecuteTime": {
     "end_time": "2017-09-11T21:40:14.781839Z",
     "start_time": "2017-09-11T21:40:14.778366Z"
    },
    "collapsed": true
   },
   "outputs": [],
   "source": [
    "valid_files=g[:14800]"
   ]
  },
  {
   "cell_type": "code",
   "execution_count": 26,
   "metadata": {
    "ExecuteTime": {
     "end_time": "2017-09-11T21:44:32.274716Z",
     "start_time": "2017-09-11T21:44:26.820246Z"
    }
   },
   "outputs": [],
   "source": [
    "for f in valid_files:\n",
    "    nf = f.replace(\"/train\",\"/valid\")\n",
    "    os.rename(f,nf)\n",
    "    "
   ]
  },
  {
   "cell_type": "code",
   "execution_count": 36,
   "metadata": {
    "ExecuteTime": {
     "end_time": "2017-09-12T15:13:36.598842Z",
     "start_time": "2017-09-12T15:13:28.377314Z"
    }
   },
   "outputs": [],
   "source": [
    "#base_path=path_train\n",
    "base_path=path_valid\n",
    "import csv\n",
    "with open(path_info, 'rb') as csvfile:\n",
    "    spamreader = csv.reader(csvfile, delimiter=',', quotechar='|')\n",
    "    next(spamreader)\n",
    "    for row in spamreader:\n",
    "        artist = row[1]\n",
    "        fileName = row[0]\n",
    "        if not os.path.exists(base_path+artist):\n",
    "            os.mkdir(base_path+artist)\n",
    "        if os.path.exists(base_path+fileName):\n",
    "            os.rename(base_path+fileName,base_path+artist+\"/\"+fileName)\n",
    "    #print len(artists)"
   ]
  },
  {
   "cell_type": "code",
   "execution_count": null,
   "metadata": {
    "collapsed": true
   },
   "outputs": [],
   "source": []
  }
 ],
 "metadata": {
  "kernelspec": {
   "display_name": "Python [conda env:fast_ai]",
   "language": "python",
   "name": "conda-env-fast_ai-py"
  },
  "language_info": {
   "codemirror_mode": {
    "name": "ipython",
    "version": 2
   },
   "file_extension": ".py",
   "mimetype": "text/x-python",
   "name": "python",
   "nbconvert_exporter": "python",
   "pygments_lexer": "ipython2",
   "version": "2.7.13"
  }
 },
 "nbformat": 4,
 "nbformat_minor": 2
}
